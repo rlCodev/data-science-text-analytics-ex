{
 "cells": [
  {
   "cell_type": "markdown",
   "id": "03701875",
   "metadata": {},
   "source": [
    "# Problem 1-1: #<br>\n",
    "1. <br>\n",
    "2. <br>\n",
    "> _Advantages_: \n",
    "    > -  Distributed architecture makes it extremely scalable\n",
    "    > -  Speed and high performance on the search\n",
    "> _Disadvantages_: \n",
    "    > -  No ACID support can lead to inconsistencies\n",
    "    > -  As a NoSQL DB it has no strict database model. This can complicate error handling.\n",
    "\n",
    "    \n",
    "3. <br>\n",
    "(i) **Stop word removal:** <br>\n",
    "> _Advantages_: \n",
    "    > -  Reduces Data set size\n",
    "    > -  Can improve efficiency of text analysis, since the key words are found easier \n",
    "\n",
    "\n",
    "> _Disadvantages_: \n",
    "    > -  In case of sentiment analysis, stop words can be crucial for meaning. Accidentally removing stop word relevant for sentiment can lead to wrong analysis\n",
    "    > -  Using a premade list, requires extra work to make sure list fits to specific project. Creating new project-specific list can be incredibly time-consuming.\n",
    "\n",
    "\n",
    "(ii) **Stemming:** <br>\n",
    "> _Advantages_: \n",
    "    > -  straightforward implementation, either with plenty of preexisting stemmers, or by implementing simple rules for stemming.\n",
    "    > -  Improves finding related documents, since one can look for variations of a word including the stem, instead of just the single word (E.g. 'running': one can look for related documents containing words with 'run', 'runs', 'runner')\n",
    "\n",
    "\n",
    "> _Disadvantages_: \n",
    "    > -  Can be ambiguous. E.g. in the case different tenses of words have a different Stem (is, am, was). Or can lead to false stems (e.g. uncle -> uncl)\n",
    "    > -  Only works for languages with simple \n",
    "\n"
   ]
  },
  {
   "cell_type": "markdown",
   "id": "4ebc725e",
   "metadata": {},
   "source": [
    "# Problem 1-2 #\n",
    "1."
   ]
  },
  {
   "cell_type": "code",
   "execution_count": 60,
   "id": "65c85920",
   "metadata": {},
   "outputs": [
    {
     "name": "stdout",
     "output_type": "stream",
     "text": [
      "Use of brackets is incorrect.\n",
      "Output is False\n"
     ]
    },
    {
     "data": {
      "text/plain": [
       "False"
      ]
     },
     "execution_count": 60,
     "metadata": {},
     "output_type": "execute_result"
    }
   ],
   "source": [
    "def verify_regex(expression):\n",
    "    \n",
    "    #Check, that input is a String\n",
    "    if(not isinstance(expression, str)):\n",
    "        print(\"Input is not a String.\")\n",
    "        return False\n",
    "    \n",
    "    #Split expression into a list of all individual characters\n",
    "    chars = list(expression)\n",
    "    \n",
    "    output = True\n",
    "    \n",
    "    #For Condition(ii): Flag is True if the previous character was ^|*+?\n",
    "    special_char_flag = False\n",
    "    \n",
    "    #For Condition(iii): Flag is True if an unresolved open bracket exists\n",
    "    numb_open_brackets = 0\n",
    "\n",
    "    for i in range(len(chars)):\n",
    "        #Condition (i):\n",
    "        char_ascii_value = ord(chars[i])\n",
    "        \n",
    "        #Regex equivalent: char_ascii_value.match([\\d])\n",
    "        if(char_ascii_value in range(ord('0'), ord('9'))):\n",
    "            continue\n",
    "        \n",
    "        #Regex equivalent: char_ascii_value.match([A_Za-z])\n",
    "        if(char_ascii_value in range(ord('A'), ord('Z')) or char_ascii_value in range(ord('a'), ord('z'))):\n",
    "            continue\n",
    "            \n",
    "        #ASCII values of Ä,Ö,Ü,ß,ä,ö,ü respectively\n",
    "        umlaut_chars = [ord('Ä'), ord('Ö'), ord('Ü'), ord('ß'), ord('ä'), ord('ö'), ord('ü')]\n",
    "        if(char_ascii_value in umlaut_chars):\n",
    "            continue\n",
    "        \n",
    "        \n",
    "        #Condition (ii):\n",
    "        special_chars = [ord('^'), ord('|'), ord('*'), ord('+'), ord('?')]\n",
    "        char_is_special = char_ascii_value in special_chars\n",
    "        \n",
    "        #check, if the flag for previous special character is raised and the current character is also special\n",
    "        if(special_char_flag and char_is_special):\n",
    "            print(\"Two special characters next to each other.\")\n",
    "            output = False\n",
    "            break\n",
    "            \n",
    "        #Raise flag, if current character is special character        \n",
    "        if(char_is_special):\n",
    "            special_char_flag = True\n",
    "        else:\n",
    "            special_char_flag = False\n",
    "        \n",
    "        \n",
    "        #Condition (iii):\n",
    "        if(char_ascii_value == ord('(')):\n",
    "            numb_open_brackets += 1\n",
    "        elif(char_ascii_value == ord(')')):\n",
    "            numb_open_brackets -= 1        \n",
    "        \n",
    "        #A closing bracket isn't allowed, without an opening bracket preceding it.\n",
    "        if(numb_open_brackets < 0):\n",
    "            break\n",
    "    \n",
    "    #Check for condition(iii)\n",
    "    if(numb_open_brackets != 0):\n",
    "        print(\"Use of brackets is incorrect.\")\n",
    "        output = False\n",
    "        \n",
    "    print(\"Output is\", output)\n",
    "    return output\n",
    "\n",
    "#example call\n",
    "verify_regex('asd(asd)äöä)?^ü')"
   ]
  },
  {
   "cell_type": "markdown",
   "id": "13195a3e",
   "metadata": {},
   "source": [
    "2. \n",
    "\n",
    "Regular expression can provide an easy way, to parse HTML content. Since HTML is often well-structured, with its form following known and common structures, separated through tags easy to filter by with RegEx, basic HTML files can be parsed with RegEx. For example, one can easily filter out the tags used in HTML by removing expressions in '< >' brackets, or look for links in an HTML file. However, the more complex the structure of an HTML file, often regular expression isn't enough, to parse the file correctly. The RegEx parser an miss important information, or end up with broken/bad data.\n",
    "Therefore, for general purpose and use, RegEx is sufficient to parse HTML, but it's not consistent and I wouldn't rely on RegEx to parse HTML if it is important to get complete and clean information. "
   ]
  },
  {
   "cell_type": "markdown",
   "id": "7bf19a42",
   "metadata": {},
   "source": [
    "# Problem 1-3 #\n",
    "1."
   ]
  },
  {
   "cell_type": "code",
   "execution_count": 4,
   "id": "8fe9e3ec",
   "metadata": {},
   "outputs": [
    {
     "ename": "ModuleNotFoundError",
     "evalue": "No module named 'PyPDF2'",
     "output_type": "error",
     "traceback": [
      "\u001b[0;31m---------------------------------------------------------------------------\u001b[0m",
      "\u001b[0;31mModuleNotFoundError\u001b[0m                       Traceback (most recent call last)",
      "Cell \u001b[0;32mIn [4], line 2\u001b[0m\n\u001b[1;32m      1\u001b[0m \u001b[39mimport\u001b[39;00m \u001b[39mtime\u001b[39;00m\n\u001b[0;32m----> 2\u001b[0m \u001b[39mfrom\u001b[39;00m  \u001b[39mPyPDF2\u001b[39;00m \u001b[39mimport\u001b[39;00m PdfReader\n",
      "\u001b[0;31mModuleNotFoundError\u001b[0m: No module named 'PyPDF2'"
     ]
    }
   ],
   "source": [
    "import time\n",
    "from  PyPDF2 import PdfReader"
   ]
  },
  {
   "cell_type": "code",
   "execution_count": 5,
   "id": "3620476f",
   "metadata": {},
   "outputs": [
    {
     "data": {
      "text/plain": [
       "['1-3-pdf-files/scans/double_ocr.pdf',\n",
       " '1-3-pdf-files/scans/single_ocr.pdf',\n",
       " '1-3-pdf-files/iban/liste1.pdf',\n",
       " '1-3-pdf-files/flyers/wegweiser_senioren.pdf',\n",
       " '1-3-pdf-files/flyers/bahnstadt.pdf',\n",
       " '1-3-pdf-files/flyers/bundeswehr.pdf']"
      ]
     },
     "execution_count": 5,
     "metadata": {},
     "output_type": "execute_result"
    }
   ],
   "source": [
    "import glob\n",
    "\n",
    "files = glob.glob('1-3-pdf-files/**/*.pdf', recursive=True)\n",
    "files"
   ]
  },
  {
   "cell_type": "code",
   "execution_count": 6,
   "id": "833fcd5a",
   "metadata": {},
   "outputs": [
    {
     "ename": "NameError",
     "evalue": "name 'PdfReader' is not defined",
     "output_type": "error",
     "traceback": [
      "\u001b[0;31m---------------------------------------------------------------------------\u001b[0m",
      "\u001b[0;31mNameError\u001b[0m                                 Traceback (most recent call last)",
      "Cell \u001b[0;32mIn [6], line 1\u001b[0m\n\u001b[0;32m----> 1\u001b[0m reader \u001b[39m=\u001b[39m PdfReader(\u001b[39mr\u001b[39m\u001b[39m\"\u001b[39m\u001b[39m1-3-pdf-files/iban/liste1.pdf\u001b[39m\u001b[39m\"\u001b[39m)\n\u001b[1;32m      2\u001b[0m page \u001b[39m=\u001b[39m reader\u001b[39m.\u001b[39mpages[\u001b[39m0\u001b[39m]\n\u001b[1;32m      3\u001b[0m \u001b[39mprint\u001b[39m(page\u001b[39m.\u001b[39mextract_text())\n",
      "\u001b[0;31mNameError\u001b[0m: name 'PdfReader' is not defined"
     ]
    }
   ],
   "source": [
    "reader = PdfReader(r\"1-3-pdf-files/iban/liste1.pdf\")\n",
    "page = reader.pages[0]\n",
    "print(page.extract_text())"
   ]
  },
  {
   "cell_type": "code",
   "execution_count": 7,
   "id": "2c2f93c7",
   "metadata": {},
   "outputs": [
    {
     "ename": "NameError",
     "evalue": "name 'PdfReader' is not defined",
     "output_type": "error",
     "traceback": [
      "\u001b[0;31m---------------------------------------------------------------------------\u001b[0m",
      "\u001b[0;31mNameError\u001b[0m                                 Traceback (most recent call last)",
      "Cell \u001b[0;32mIn [7], line 4\u001b[0m\n\u001b[1;32m      1\u001b[0m start \u001b[39m=\u001b[39m time\u001b[39m.\u001b[39mtime()\n\u001b[1;32m      3\u001b[0m \u001b[39mfor\u001b[39;00m file \u001b[39min\u001b[39;00m files:\n\u001b[0;32m----> 4\u001b[0m     reader \u001b[39m=\u001b[39m PdfReader(file)\n\u001b[1;32m      5\u001b[0m     \u001b[39m#for page in reader.pages:\u001b[39;00m\n\u001b[1;32m      6\u001b[0m     page\u001b[39m.\u001b[39mextract_text()\n",
      "\u001b[0;31mNameError\u001b[0m: name 'PdfReader' is not defined"
     ]
    }
   ],
   "source": [
    "start = time.time()\n",
    "\n",
    "for file in files:\n",
    "    reader = PdfReader(file)\n",
    "    #for page in reader.pages:\n",
    "    page.extract_text()\n",
    "\n",
    "end = time.time()\n",
    "print(end-start)"
   ]
  },
  {
   "cell_type": "code",
   "execution_count": 8,
   "id": "027d35c3",
   "metadata": {},
   "outputs": [
    {
     "ename": "ModuleNotFoundError",
     "evalue": "No module named 'tika'",
     "output_type": "error",
     "traceback": [
      "\u001b[0;31m---------------------------------------------------------------------------\u001b[0m",
      "\u001b[0;31mModuleNotFoundError\u001b[0m                       Traceback (most recent call last)",
      "Cell \u001b[0;32mIn [8], line 1\u001b[0m\n\u001b[0;32m----> 1\u001b[0m \u001b[39mfrom\u001b[39;00m \u001b[39mtika\u001b[39;00m \u001b[39mimport\u001b[39;00m parser\n",
      "\u001b[0;31mModuleNotFoundError\u001b[0m: No module named 'tika'"
     ]
    }
   ],
   "source": [
    "from tika import parser"
   ]
  },
  {
   "cell_type": "code",
   "execution_count": 9,
   "id": "c1305b52",
   "metadata": {},
   "outputs": [
    {
     "ename": "NameError",
     "evalue": "name 'parser' is not defined",
     "output_type": "error",
     "traceback": [
      "\u001b[0;31m---------------------------------------------------------------------------\u001b[0m",
      "\u001b[0;31mNameError\u001b[0m                                 Traceback (most recent call last)",
      "Cell \u001b[0;32mIn [9], line 3\u001b[0m\n\u001b[1;32m      1\u001b[0m start \u001b[39m=\u001b[39m time\u001b[39m.\u001b[39mtime()\n\u001b[1;32m      2\u001b[0m \u001b[39mfor\u001b[39;00m file \u001b[39min\u001b[39;00m files:\n\u001b[0;32m----> 3\u001b[0m     parsed_pdf \u001b[39m=\u001b[39m parser\u001b[39m.\u001b[39mfrom_file(file)\n\u001b[1;32m      4\u001b[0m     data \u001b[39m=\u001b[39m parsed_pdf[\u001b[39m'\u001b[39m\u001b[39mcontent\u001b[39m\u001b[39m'\u001b[39m]\n\u001b[1;32m      5\u001b[0m end \u001b[39m=\u001b[39m time\u001b[39m.\u001b[39mtime()\n",
      "\u001b[0;31mNameError\u001b[0m: name 'parser' is not defined"
     ]
    }
   ],
   "source": [
    "start = time.time()\n",
    "for file in files:\n",
    "    parsed_pdf = parser.from_file(file)\n",
    "    data = parsed_pdf['content']\n",
    "end = time.time()\n",
    "print(end-start)"
   ]
  },
  {
   "cell_type": "code",
   "execution_count": 10,
   "id": "cbfccf13",
   "metadata": {},
   "outputs": [],
   "source": [
    "from difflib import SequenceMatcher"
   ]
  },
  {
   "cell_type": "code",
   "execution_count": 11,
   "id": "90bda72f",
   "metadata": {},
   "outputs": [
    {
     "ename": "NameError",
     "evalue": "name 'PdfReader' is not defined",
     "output_type": "error",
     "traceback": [
      "\u001b[0;31m---------------------------------------------------------------------------\u001b[0m",
      "\u001b[0;31mNameError\u001b[0m                                 Traceback (most recent call last)",
      "Cell \u001b[0;32mIn [11], line 3\u001b[0m\n\u001b[1;32m      1\u001b[0m results \u001b[39m=\u001b[39m []\n\u001b[1;32m      2\u001b[0m \u001b[39mfor\u001b[39;00m file \u001b[39min\u001b[39;00m files:\n\u001b[0;32m----> 3\u001b[0m     reader \u001b[39m=\u001b[39m PdfReader(file)\n\u001b[1;32m      4\u001b[0m     pypdf2_result \u001b[39m=\u001b[39m \u001b[39m\"\u001b[39m\u001b[39m\"\u001b[39m\n\u001b[1;32m      5\u001b[0m     \u001b[39mfor\u001b[39;00m page \u001b[39min\u001b[39;00m reader\u001b[39m.\u001b[39mpages:\n",
      "\u001b[0;31mNameError\u001b[0m: name 'PdfReader' is not defined"
     ]
    }
   ],
   "source": [
    "results = []\n",
    "for file in files:\n",
    "    reader = PdfReader(file)\n",
    "    pypdf2_result = \"\"\n",
    "    for page in reader.pages:\n",
    "        pypdf2_result = pypdf2_result + page.extract_text()\n",
    "    parsed_pdf = parser.from_file(file)\n",
    "    tika_result = parsed_pdf['content']\n",
    "    ratio = SequenceMatcher(None, pypdf2_result, tika_result).ratio()\n",
    "    results.append(ratio)\n",
    "    print(ratio)\n",
    "\n"
   ]
  },
  {
   "cell_type": "code",
   "execution_count": 12,
   "id": "1372e037",
   "metadata": {},
   "outputs": [
    {
     "ename": "NameError",
     "evalue": "name 'data' is not defined",
     "output_type": "error",
     "traceback": [
      "\u001b[0;31m---------------------------------------------------------------------------\u001b[0m",
      "\u001b[0;31mNameError\u001b[0m                                 Traceback (most recent call last)",
      "Cell \u001b[0;32mIn [12], line 1\u001b[0m\n\u001b[0;32m----> 1\u001b[0m data\n",
      "\u001b[0;31mNameError\u001b[0m: name 'data' is not defined"
     ]
    }
   ],
   "source": [
    "data"
   ]
  },
  {
   "cell_type": "code",
   "execution_count": null,
   "id": "37383974",
   "metadata": {},
   "outputs": [],
   "source": []
  }
 ],
 "metadata": {
  "kernelspec": {
   "display_name": "Python 3.9.6 64-bit",
   "language": "python",
   "name": "python3"
  },
  "language_info": {
   "codemirror_mode": {
    "name": "ipython",
    "version": 3
   },
   "file_extension": ".py",
   "mimetype": "text/x-python",
   "name": "python",
   "nbconvert_exporter": "python",
   "pygments_lexer": "ipython3",
   "version": "3.9.6"
  },
  "vscode": {
   "interpreter": {
    "hash": "31f2aee4e71d21fbe5cf8b01ff0e069b9275f58929596ceb00d14d90e3e16cd6"
   }
  }
 },
 "nbformat": 4,
 "nbformat_minor": 5
}
