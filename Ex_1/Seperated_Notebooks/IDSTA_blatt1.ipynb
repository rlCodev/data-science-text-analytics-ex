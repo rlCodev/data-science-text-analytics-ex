{
 "cells": [
  {
   "cell_type": "markdown",
   "id": "03701875",
   "metadata": {},
   "source": [
    "# Problem 1-1: #<br>\n",
    "a) <br>\n",
    "b) <br>\n",
    "c) <br>\n",
    "(i) **Stop word removal:** <br>\n",
    "> _Advantages_: \n",
    "    > -  Reduces Data set size\n",
    "    > -  Can improve efficiency of text analysis, since the key words are found easier \n",
    "\n",
    "\n",
    "> _Disadvantages_: \n",
    "    > -  In case of sentiment analysis, stop words can be crucial for meaning. Accidentally removing stop word relevant for sentiment can lead to wrong analysis\n",
    "    > -  Using a premade list, requires extra work to make sure list fits to specific project. Creating new project-specific list can be incredibly time-consuming.\n",
    "\n",
    "\n",
    "(ii) **Stemming:** <br>\n",
    "> _Advantages_: \n",
    "    > -  straightforward implementation, either with plenty of preexisting stemmers, or by implementing simple rules for stemming.\n",
    "    > -  Improves finding related documents, since one can look for variations of a word including the stem, instead of just the single word (E.g. 'running': one can look for related documents containing words with 'run', 'runs', 'runner')\n",
    "\n",
    "\n",
    "> _Disadvantages_: \n",
    "    > -  Can be ambiguous. E.g. in the case different tenses of words have a different Stem (is, am, was). Or can lead to false stems (e.g. uncle -> uncl)\n",
    "    > -  Only works for languages with simple \n"
   ]
  },
  {
   "cell_type": "markdown",
   "id": "4ebc725e",
   "metadata": {},
   "source": [
    "# Problem 1-2 #\n",
    "a)"
   ]
  },
  {
   "cell_type": "code",
   "execution_count": 60,
   "id": "65c85920",
   "metadata": {},
   "outputs": [
    {
     "name": "stdout",
     "output_type": "stream",
     "text": [
      "Use of brackets is incorrect.\n",
      "Output is False\n"
     ]
    },
    {
     "data": {
      "text/plain": [
       "False"
      ]
     },
     "execution_count": 60,
     "metadata": {},
     "output_type": "execute_result"
    }
   ],
   "source": [
    "def verify_regex(expression):\n",
    "    \n",
    "    #Check, that input is a String\n",
    "    if(not isinstance(expression, str)):\n",
    "        print(\"Input is not a String.\")\n",
    "        return False\n",
    "    \n",
    "    #Split expression into a list of all individual characters\n",
    "    chars = list(expression)\n",
    "    \n",
    "    output = True\n",
    "    \n",
    "    #For Condition(ii): Flag is True if the previous character was ^|*+?\n",
    "    special_char_flag = False\n",
    "    \n",
    "    #For Condition(iii): Flag is True if an unresolved open bracket exists\n",
    "    numb_open_brackets = 0\n",
    "\n",
    "    for i in range(len(chars)):\n",
    "        #Condition (i):\n",
    "        char_ascii_value = ord(chars[i])\n",
    "        \n",
    "        #Regex equivalent: char_ascii_value.match([\\d])\n",
    "        if(char_ascii_value in range(ord('0'), ord('9'))):\n",
    "            continue\n",
    "        \n",
    "        #Regex equivalent: char_ascii_value.match([A_Za-z])\n",
    "        if(char_ascii_value in range(ord('A'), ord('Z')) or char_ascii_value in range(ord('a'), ord('z'))):\n",
    "            continue\n",
    "            \n",
    "        #ASCII values of Ä,Ö,Ü,ß,ä,ö,ü respectively\n",
    "        umlaut_chars = [ord('Ä'), ord('Ö'), ord('Ü'), ord('ß'), ord('ä'), ord('ö'), ord('ü')]\n",
    "        if(char_ascii_value in umlaut_chars):\n",
    "            continue\n",
    "        \n",
    "        \n",
    "        #Condition (ii):\n",
    "        special_chars = [ord('^'), ord('|'), ord('*'), ord('+'), ord('?')]\n",
    "        char_is_special = char_ascii_value in special_chars\n",
    "        \n",
    "        #check, if the flag for previous special character is raised and the current character is also special\n",
    "        if(special_char_flag and char_is_special):\n",
    "            print(\"Two special characters next to each other.\")\n",
    "            output = False\n",
    "            break\n",
    "            \n",
    "        #Raise flag, if current character is special character        \n",
    "        if(char_is_special):\n",
    "            special_char_flag = True\n",
    "        else:\n",
    "            special_char_flag = False\n",
    "        \n",
    "        \n",
    "        #Condition (iii):\n",
    "        if(char_ascii_value == ord('(')):\n",
    "            numb_open_brackets += 1\n",
    "        elif(char_ascii_value == ord(')')):\n",
    "            numb_open_brackets -= 1        \n",
    "        \n",
    "        #A closing bracket isn't allowed, without an opening bracket preceding it.\n",
    "        if(numb_open_brackets < 0):\n",
    "            break\n",
    "    \n",
    "    #Check for condition(iii)\n",
    "    if(numb_open_brackets != 0):\n",
    "        print(\"Use of brackets is incorrect.\")\n",
    "        output = False\n",
    "        \n",
    "    print(\"Output is\", output)\n",
    "    return output\n",
    "\n",
    "#example call\n",
    "verify_regex('asd(asd)äöä)?^ü')"
   ]
  },
  {
   "cell_type": "markdown",
   "id": "13195a3e",
   "metadata": {},
   "source": [
    "b)\n",
    "Regular expression can provide an easy way, to parse HTML content. Since HTML is often well-structured, with its form following known and common structures, separated through tags easy to filter by with RegEx, basic HTML files can be parsed with RegEx. For example, one can easily filter out the tags used in HTML by removing expressions in '< >' brackets, or look for links in an HTML file. However, the more complex the structure of an HTML file, often regular expression isn't enough, to parse the file correctly. The RegEx parser an miss important information, or end up with broken/bad data.\n",
    "Therefore, for general purpose and use, RegEx is sufficient to parse HTML, but it's not consistent and I wouldn't rely on RegEx to parse HTML if it is important to get complete and clean information. "
   ]
  },
  {
   "cell_type": "code",
   "execution_count": null,
   "id": "99789c4d",
   "metadata": {},
   "outputs": [],
   "source": []
  }
 ],
 "metadata": {
  "kernelspec": {
   "display_name": "Python 3 (ipykernel)",
   "language": "python",
   "name": "python3"
  },
  "language_info": {
   "codemirror_mode": {
    "name": "ipython",
    "version": 3
   },
   "file_extension": ".py",
   "mimetype": "text/x-python",
   "name": "python",
   "nbconvert_exporter": "python",
   "pygments_lexer": "ipython3",
   "version": "3.10.6"
  }
 },
 "nbformat": 4,
 "nbformat_minor": 5
}
