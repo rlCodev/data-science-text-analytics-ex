{
 "cells": [
  {
   "cell_type": "markdown",
   "metadata": {},
   "source": [
    "# Information Extraction from PDF Documents\n",
    "\n",
    "In this assignment you have to convert a set of PDFs to raw text and extract information from the files using regular expressions."
   ]
  },
  {
   "cell_type": "markdown",
   "metadata": {},
   "source": [
    "Download the folders containing PDF files provided via Moodle (1-3-pdf-files.zip). Since the PDF format cannot be directly used to process text, you first have to convert the file contents to plain text.\n",
    "Find two different methods to convert PDFs to text, and compare their performance. You should provide a quantitative and qualitative analysis. For comparison of two generated files, use Python’s SequenceMatcher.ratio(). With this analysis as a basis, choose one of the methods, and provide the processed raw text files in the submission folder. Justify your decision!"
   ]
  },
  {
   "cell_type": "code",
   "execution_count": 72,
   "metadata": {},
   "outputs": [],
   "source": [
    "import time\n",
    "from  PyPDF2 import PdfReader\n"
   ]
  },
  {
   "cell_type": "code",
   "execution_count": 108,
   "metadata": {},
   "outputs": [
    {
     "data": {
      "text/plain": [
       "['1-3-pdf-files/scans/double_ocr.pdf',\n",
       " '1-3-pdf-files/scans/single_ocr.pdf',\n",
       " '1-3-pdf-files/iban/liste1.pdf',\n",
       " '1-3-pdf-files/flyers/wegweiser_senioren.pdf',\n",
       " '1-3-pdf-files/flyers/bahnstadt.pdf',\n",
       " '1-3-pdf-files/flyers/bundeswehr.pdf']"
      ]
     },
     "execution_count": 108,
     "metadata": {},
     "output_type": "execute_result"
    }
   ],
   "source": [
    "import glob\n",
    "\n",
    "files = glob.glob('1-3-pdf-files/**/*.pdf', recursive=True)\n",
    "files"
   ]
  },
  {
   "cell_type": "code",
   "execution_count": 46,
   "metadata": {},
   "outputs": [
    {
     "name": "stdout",
     "output_type": "stream",
     "text": [
      "IBAN – Länderliste für den internationalen Zahlungsverkehr\n",
      "Verwenden Sie im grenzüberschreitenden Zahlungsverkehr mit diesen Ländern konsequent IBAN und BIC.\n",
      "Stand am 1. Januar 20211 inkl. Französisch Guyana, Französisch Polynesien, Französisch Süd- und Antarktisgebiete, Guadeloupe, \n",
      "Martinique, Mayotte, Neukaledonien, Reunion, St. Pierre und Miquelon, Saint-Barthélemy, Saint-Martin \n",
      "(französischer Teil), Wallis und Futuna\n",
      "2 inkl. Guernsey, Isle of Man, Jersey, NordirlandEUROPA LÄNDERCODE ANZAHL STELLEN BEISPIEL EINER FIKTIVEN IBAN\n",
      "Albanien AL 28 AL07 2121 1009 0000 0002 3569 8741\n",
      "Andorra AD 24 AD02 0001 2030 2003 5910 0100\n",
      "Belgien BE 16 BE08 5390 0754 7034\n",
      "Bosnien Herzegowina BA 20 BA09 1290 0794 0102 8494\n",
      "Bulgarien BG 22 BG00 BNBG 9661 1020 3456 78\n",
      "Dänemark DK 18 DK00 0040 0440 1162 43\n",
      "Deutschland DE 22 DE00 7005 1755 0000 0072 29\n",
      "Estland EE 20 EE08 2200 2210 2014 5685\n",
      "Färöer Inseln FO 18 FO00 0040 0440 1162 43\n",
      "Finnland FI 18 FI01 1234 5600 0007 85\n",
      "Frankreich1FR 27 FR04 2004 1010 0505 0001 3M02 606\n",
      "Georgien GE 22 GE09 NB00 0000 0101 9049 17\n",
      "Gibraltar GI 23 GI05 NWBK 0000 0000 7099 453\n",
      "Griechenland GR 27 GR06 0110 1250 0000 0001 2300 695\n",
      "Grönland GL 18 GL00 0040 0440 1162 43\n",
      "Grossbritannien2GB 22 GB09 NWBK 6016 1331 9268 19\n",
      "Irland IE 22 IE09 AIBK 9311 5212 3456 78\n",
      "Island IS 26 IS04 0159 2600 7654 5510 7303 39\n",
      "Italien IT 27 IT00 X054 2811 1010 0000 0123 456\n",
      "Kasachstan KZ 20 KZ01 0000 0000 1234 5601\n",
      "Kosovo XK 20 XK05 1212 0123 4567 8906\n",
      "Kroatien HR 21 HR02 1001 0051 8630 0016 0\n",
      "Lettland LV 21 LV00 BANK 0000 4351 9500 1\n",
      "Litauen LT 20 LT02 1000 0111 0100 1000\n",
      "Luxemburg LU 20 LU08 0019 4006 4475 0000\n",
      "Malta MT 31 MT04 MALT 0110 0001 2345 MTLC AST0 01S\n",
      "Mazedonien MK 19 MK07 3000 0000 0042 425\n",
      "Moldawien MD 24 MD04 AG00 0225 1000 1310 4168\n",
      "Monaco MC 27 MC03 2005 2222 1001 1223 3M44 555\n",
      "Montenegro ME 22 ME05 2020 0001 2345 6789 51\n",
      "Niederlande NL 18 NL01 ABNA 0417 1643 00\n",
      "Norwegen NO 15 NO03 8601 1117 947\n",
      "Österreich AT 20 AT01 1904 3002 3457 3201\n",
      "Polen PL 28 PL07 1140 2004 0000 3002 0135 5387\n",
      "Portugal PT 25 PT00 0002 0123 1234 5678 9015 4\n",
      "Rumänien RO 24 RO09 AAAA 1B31 0075 9384 0000\n",
      "San Marino SM 27 SM02 Y054 3219 8760 0444 5333 222\n",
      "Schweden SE 24 SE05 5000 0000 0549 1000 0003\n",
      "Serbien RS 22 RS05 2600 0560 1001 6113 79\n",
      "Slowakei SK 24 SK01 1200 0000 1987 4263 7541\n",
      "Slowenien SI 19 SI06 1910 0000 0123 438\n",
      "Spanien ES 24 ES01 2100 0418 4502 0005 1332\n",
      "Tschechien CZ 24 CZ05 0800 0000 1920 0014 5399\n",
      "Türkei TR 26 TR03 0006 1005 1978 6457 8413 26\n",
      "Ukraine UA 29 UA57 3543 4700 0676 2462 0549 2502 6\n",
      "Ungarn HU 28 HU02 1177 3016 1111 1018 0000 0000\n",
      "Vatikanstadt VA 22 VA59 0011 2300 0012 3456 78\n",
      "Weissrussland BY 28 BY13 NBRB 3600 9000 0000 2Z00 AB00 \n"
     ]
    }
   ],
   "source": [
    "reader = PdfReader(r\"1-3-pdf-files/iban/liste1.pdf\")\n",
    "page = reader.pages[0]\n",
    "print(page.extract_text())"
   ]
  },
  {
   "cell_type": "code",
   "execution_count": 147,
   "metadata": {},
   "outputs": [
    {
     "name": "stdout",
     "output_type": "stream",
     "text": [
      "8.113204002380371\n"
     ]
    }
   ],
   "source": [
    "start = time.time()\n",
    "\n",
    "for file in files:\n",
    "    reader = PdfReader(file)\n",
    "    for page in reader.pages:\n",
    "        page.extract_text()\n",
    "\n",
    "end = time.time()\n",
    "print(end-start)"
   ]
  },
  {
   "cell_type": "code",
   "execution_count": 112,
   "metadata": {},
   "outputs": [],
   "source": [
    "from tika import parser"
   ]
  },
  {
   "cell_type": "code",
   "execution_count": 113,
   "metadata": {},
   "outputs": [
    {
     "name": "stdout",
     "output_type": "stream",
     "text": [
      "0.9847190380096436\n"
     ]
    }
   ],
   "source": [
    "start = time.time()\n",
    "for file in files:\n",
    "    parsed_pdf = parser.from_file(file)\n",
    "    data = parsed_pdf['content']\n",
    "end = time.time()\n",
    "print(end-start)"
   ]
  },
  {
   "cell_type": "code",
   "execution_count": 116,
   "metadata": {},
   "outputs": [],
   "source": [
    "from difflib import SequenceMatcher"
   ]
  },
  {
   "cell_type": "code",
   "execution_count": 118,
   "metadata": {},
   "outputs": [
    {
     "name": "stdout",
     "output_type": "stream",
     "text": [
      "0.9459807073954984\n",
      "0.9856059132464501\n",
      "0.9670001149821777\n",
      "0.9697793826370479\n",
      "0.9206983883346125\n",
      "0.9648005235824899\n"
     ]
    }
   ],
   "source": [
    "results = []\n",
    "for file in files:\n",
    "    reader = PdfReader(file)\n",
    "    pypdf2_result = \"\"\n",
    "    for page in reader.pages:\n",
    "        pypdf2_result = pypdf2_result + page.extract_text()\n",
    "    parsed_pdf = parser.from_file(file)\n",
    "    tika_result = parsed_pdf['content']\n",
    "    ratio = SequenceMatcher(None, pypdf2_result, tika_result).ratio()\n",
    "    results.append(ratio)\n",
    "    print(ratio)\n",
    "\n"
   ]
  },
  {
   "cell_type": "code",
   "execution_count": 141,
   "metadata": {},
   "outputs": [],
   "source": [
    "import difflib"
   ]
  },
  {
   "cell_type": "code",
   "execution_count": 138,
   "metadata": {},
   "outputs": [
    {
     "data": {
      "text/plain": [
       "([0, 1, 2, 3, 4, 5],\n",
       " [Text(0, 0, ''),\n",
       "  Text(0, 0, ''),\n",
       "  Text(0, 0, ''),\n",
       "  Text(0, 0, ''),\n",
       "  Text(0, 0, ''),\n",
       "  Text(0, 0, '')])"
      ]
     },
     "execution_count": 138,
     "metadata": {},
     "output_type": "execute_result"
    },
    {
     "data": {
      "image/png": "[encoded data removed]",
      "text/plain": [
       "<Figure size 640x480 with 1 Axes>"
      ]
     },
     "metadata": {},
     "output_type": "display_data"
    }
   ],
   "source": [
    "from matplotlib import pyplot as plt\n",
    "xlabels = [file.split(\"/\")[-1] for file in files]\n",
    "plt.bar(xlabels, results)\n",
    "plt.ylim(0.9, 1)\n",
    "plt.ylabel(\"Sequencematcher Ratio\")\n",
    "plt.xlabel(\"Document\")\n",
    "plt.xticks(rotation=15)"
   ]
  },
  {
   "cell_type": "code",
   "execution_count": 64,
   "metadata": {},
   "outputs": [],
   "source": [
    "data = [entry for entry in data.split(\"\\n\") if len(entry)>0]"
   ]
  },
  {
   "cell_type": "code",
   "execution_count": 54,
   "metadata": {},
   "outputs": [],
   "source": [
    "pdfR = reader.pages[0].extract_text().split(\"\\n\")\n",
    "pdfR.extend(reader.pages[1].extract_text().split(\"\\n\"))"
   ]
  },
  {
   "cell_type": "code",
   "execution_count": 69,
   "metadata": {},
   "outputs": [
    {
     "name": "stdout",
     "output_type": "stream",
     "text": [
      "Stand am 1. Januar 20211 inkl. Französisch Guyana, Französisch Polynesien, Französisch Süd- und Antarktisgebiete, Guadeloupe, \n",
      "2 inkl. Guernsey, Isle of Man, Jersey, NordirlandEUROPA LÄNDERCODE ANZAHL STELLEN BEISPIEL EINER FIKTIVEN IBAN\n",
      "Frankreich1FR 27 FR04 2004 1010 0505 0001 3M02 606\n",
      "Grossbritannien2GB 22 GB09 NWBK 6016 1331 9268 19\n"
     ]
    },
    {
     "data": {
      "text/plain": [
       "80"
      ]
     },
     "execution_count": 69,
     "metadata": {},
     "output_type": "execute_result"
    }
   ],
   "source": [
    "counter = 0\n",
    "for pdfText in pdfR:\n",
    "    if pdfText in data:\n",
    "        counter = counter +1\n",
    "    else: print(pdfText)\n",
    "counter"
   ]
  },
  {
   "cell_type": "code",
   "execution_count": 70,
   "metadata": {},
   "outputs": [
    {
     "name": "stdout",
     "output_type": "stream",
     "text": [
      "1 inkl. Französisch Guyana, Französisch Polynesien, Französisch Süd- und Antarktisgebiete, Guadeloupe, \n",
      "2 inkl. Guernsey, Isle of Man, Jersey, Nordirland\n",
      "EUROPA LÄNDERCODE ANZAHL STELLEN BEISPIEL EINER FIKTIVEN IBAN\n",
      "Frankreich1 FR 27 FR04 2004 1010 0505 0001 3M02 606\n",
      "Grossbritannien2 GB 22 GB09 NWBK 6016 1331 9268 19\n"
     ]
    },
    {
     "data": {
      "text/plain": [
       "82"
      ]
     },
     "execution_count": 70,
     "metadata": {},
     "output_type": "execute_result"
    }
   ],
   "source": [
    "counter = 0\n",
    "for pdfText in data:\n",
    "    if pdfText in pdfR:\n",
    "        counter = counter +1\n",
    "    else: print(pdfText)\n",
    "counter"
   ]
  },
  {
   "cell_type": "markdown",
   "metadata": {},
   "source": [
    "After the analysis we reach the conclusion that tika is able to recognize whitespaces and newlines in a user friendlier manner and more precisely. Although the results don't differ very significantly (see the diagram), tika was able to parse the pdfs much quicker. Therefor we will us tike in further exercises."
   ]
  },
  {
   "cell_type": "markdown",
   "metadata": {},
   "source": [
    "2. Why is a high quality conversion from PDF to plain text hard? Your answer does not need to be exhaustive\n",
    "but should outline some of the most important reasons."
   ]
  },
  {
   "cell_type": "markdown",
   "metadata": {},
   "source": [
    "There are several open questions while parsing\n",
    "- should pagen numbers, footers and headers be parsed. How to identify those?\n",
    "- how to parse formulas, difficulties from Latex generated -> text\n",
    "- pdf may include texts in images => how to identify those? What to do with the captions\n",
    "- there is big difference between computer generated pdfs and scanned docs\n",
    "-- scanned docs don't have searchable text, need to be OCR scanned which doesn't produce 100% correct results.\n",
    "- How to correctly parse text with several columns or tables\n",
    "\n",
    "\n",
    "Summary: various shape and method of creations make PDFs hard to convert to plain text"
   ]
  }
 ],
 "metadata": {
  "kernelspec": {
   "display_name": "Python 3 (ipykernel)",
   "language": "python",
   "name": "python3"
  },
  "language_info": {
   "codemirror_mode": {
    "name": "ipython",
    "version": 3
   },
   "file_extension": ".py",
   "mimetype": "text/x-python",
   "name": "python",
   "nbconvert_exporter": "python",
   "pygments_lexer": "ipython3",
   "version": "3.9.13"
  }
 },
 "nbformat": 4,
 "nbformat_minor": 1
}
